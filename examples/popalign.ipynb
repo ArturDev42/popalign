{
 "cells": [
  {
   "cell_type": "code",
   "execution_count": null,
   "metadata": {},
   "outputs": [],
   "source": [
    "import sys\n",
    "sys.path.append('../popalign/')\n",
    "import popalign as PA\n",
    "import importlib"
   ]
  },
  {
   "cell_type": "code",
   "execution_count": null,
   "metadata": {},
   "outputs": [],
   "source": [
    "PA.__file__"
   ]
  },
  {
   "cell_type": "code",
   "execution_count": null,
   "metadata": {},
   "outputs": [],
   "source": [
    "# Load data (example)\n",
    "importlib.reload(PA)\n",
    "LOAD = 'screen'\n",
    "\n",
    "# Load samples from distinct matrix files\n",
    "if LOAD == 'samples':\n",
    "    mysamples = {\n",
    "        'CTRL' : '../data/samples/PBMC.mtx',\n",
    "        'GMCSF_1ng/ml' : '../data/samples/GMCSF.mtx',\n",
    "        'IFNG_1ng/ml' : '../data/samples/IFNG.mtx',\n",
    "        'IL2_10ng/ml' : '../data/samples/IL2.mtx',\n",
    "        'CD40L_20ng/ml' : '../data/samples/CD40L.mtx',\n",
    "    }\n",
    "    mygenes = '../data/samples/genes.tsv'\n",
    "    pop = PA.load_samples(samples=mysamples, \n",
    "                          genes=mygenes,\n",
    "                          outputfolder='output_samples')\n",
    "    \n",
    "# Load samples from one matrix file with metadata (must include cell_barcode, sample_id columns)\n",
    "elif LOAD == 'screen':\n",
    "    mymatrix = '../data/screen/PBMC-MULT-4/pbmcmult4cd3minus.mtx'\n",
    "    mybarcodes = '../data/screen/PBMC-MULT-4/barcodes.tsv'\n",
    "    mygenes = '../data/screen/PBMC-MULT-4/features.tsv'\n",
    "    mymetadata = '../data/screen/PBMC-MULT-4/meta.csv'\n",
    "    \n",
    "    #mymatrix = '../data/screen/PBMC-MULT-6/PBMC-MULT-6.mtx'\n",
    "    #mybarcodes = '../data/screen/PBMC-MULT-6/barcodes.tsv'\n",
    "    #mygenes = '../data/screen/PBMC-MULT-6/genes.tsv'\n",
    "    #mymetadata = '../data/screen/PBMC-MULT-6/updated_meta.csv'\n",
    "    \n",
    "    pop = PA.load_multiplexed(matrix=mymatrix, \n",
    "                         barcodes=mybarcodes, \n",
    "                         metafile=mymetadata, \n",
    "                         genes=mygenes,\n",
    "                         outputfolder='output_multiplexed',\n",
    "                         only=[], # list of sample names to only load the specified samples\n",
    "                         col=None, # either None or a column name from the meta data\n",
    "                         value=None) # if col != None, specify value in column to filter samples"
   ]
  },
  {
   "cell_type": "code",
   "execution_count": null,
   "metadata": {},
   "outputs": [],
   "source": [
    "# Perform column normalization\n",
    "# Find best normalization factor\n",
    "PA.normalize(pop, scaling_factor=None)"
   ]
  },
  {
   "cell_type": "code",
   "execution_count": null,
   "metadata": {},
   "outputs": [],
   "source": [
    "# Plot genes (log cv ~ log cv) and filtering line --use multiple times to find best offset (usually between .7 and 1.5)\n",
    "PA.plot_gene_filter(pop, offset=1.5)"
   ]
  },
  {
   "cell_type": "code",
   "execution_count": null,
   "metadata": {},
   "outputs": [],
   "source": [
    "# Gene filter the data with the last offset value used in the previous step\n",
    "PA.filter(pop, remove_ribsomal=True)"
   ]
  },
  {
   "cell_type": "code",
   "execution_count": null,
   "metadata": {},
   "outputs": [],
   "source": [
    "# Remove red blood cells from the data\n",
    "PA.removeRBC(pop, species='human')"
   ]
  },
  {
   "cell_type": "code",
   "execution_count": null,
   "metadata": {},
   "outputs": [],
   "source": [
    "# Generate multiple feature spaces and pick the best one based on reconstruction error\n",
    "# Run GSEA on each feature\n",
    "# Generate QC plots\n",
    "PA.onmf(pop, ncells=5000, nfeats=[5,7], nreps=3, niter=500)"
   ]
  },
  {
   "cell_type": "code",
   "execution_count": null,
   "metadata": {},
   "outputs": [],
   "source": [
    "# Build a Gaussian Mixture model for each sample\n",
    "# Type the models subpopulations\n",
    "PA.build_gmms(pop, \n",
    "              ks=(5,8), \n",
    "              niters=3, \n",
    "              training=.8, \n",
    "              nreplicates=2,\n",
    "              reg_covar=True, \n",
    "              rendering='grouped', \n",
    "              types='defaultpbmc', # either None, 'defaultpbmc' or a dictionary\n",
    "              figsizegrouped=(20,20),\n",
    "              figsizesingle=(6,5))"
   ]
  },
  {
   "cell_type": "code",
   "execution_count": null,
   "metadata": {},
   "outputs": [],
   "source": [
    "# If the renderings do not have the right figure size, regenerate the renderings with:\n",
    "#PA.render_models(pop, figsizegrouped=(20,20), figsizesingle=(6,5), mode='grouped')"
   ]
  },
  {
   "cell_type": "code",
   "execution_count": null,
   "metadata": {},
   "outputs": [],
   "source": [
    "# Align subpopulations of each sample against a reference model's subpopulations\n",
    "PA.align(pop, ref='CTRL', method='conservative', figsizedeltas=(10,10), figsizeentropy=(10,10))"
   ]
  },
  {
   "cell_type": "code",
   "execution_count": null,
   "metadata": {},
   "outputs": [],
   "source": [
    "# Rank each sample against a reference sample's model\n",
    "PA.rank(pop, ref='CTRL', k=100, niter=200, mincells=50, figsize=(10,5))"
   ]
  },
  {
   "cell_type": "code",
   "execution_count": null,
   "metadata": {},
   "outputs": [],
   "source": [
    "# Build a unique GMM for the samples concatenated together\n",
    "PA.build_unique_gmm(pop, \n",
    "                    ks=(5,20), \n",
    "                    niters=3, \n",
    "                    training=0.2, \n",
    "                    reg_covar=True, \n",
    "                    types='defaultpbmc', # either None, 'defaultpbmc' or a dictionary\n",
    "                    figsize=(6,5))"
   ]
  },
  {
   "cell_type": "code",
   "execution_count": null,
   "metadata": {
    "scrolled": true
   },
   "outputs": [],
   "source": [
    "# Generate a query plot\n",
    "PA.plot_query(pop,  pcells=.2, nreps=10, figsize=(5,20), sharey=True)"
   ]
  },
  {
   "cell_type": "code",
   "execution_count": null,
   "metadata": {},
   "outputs": [],
   "source": []
  },
  {
   "cell_type": "code",
   "execution_count": null,
   "metadata": {},
   "outputs": [],
   "source": []
  },
  {
   "cell_type": "code",
   "execution_count": null,
   "metadata": {},
   "outputs": [],
   "source": [
    "#%%%%%%%%%%%%%%%%%%%%%%%%%%%%%%%%%%%%%%%%%%%%%%%%%%%%%%\n",
    "#%%%%%%%%%%%%%%%%%%%%%%%%%%%%%%%%%%%%%%%%%%%%%%%%%%%%%%\n",
    "#-------------- WORK IN PROGRESS BELOW ----------------\n",
    "#%%%%%%%%%%%%%%%%%%%%%%%%%%%%%%%%%%%%%%%%%%%%%%%%%%%%%%\n",
    "#%%%%%%%%%%%%%%%%%%%%%%%%%%%%%%%%%%%%%%%%%%%%%%%%%%%%%%"
   ]
  },
  {
   "cell_type": "code",
   "execution_count": null,
   "metadata": {},
   "outputs": [],
   "source": [
    "importlib.reload(PA)\n",
    "genelist = [\n",
    "    'CD14',\n",
    "    'CD33',\n",
    "    'LYZ',\n",
    "    'FCER1G',\n",
    "    'LGALS3',\n",
    "    'CSF1R',\n",
    "    'ITGAX',\n",
    "    'ITGAM',\n",
    "    'CD86',\n",
    "    'HLA-DRB1'\n",
    "]\n",
    "PA.plot_heatmap(pop, refcomp=0, genelist=genelist, savename=None, figsize=(15,15), cmap='Purples', samplelimits=True)"
   ]
  },
  {
   "cell_type": "code",
   "execution_count": null,
   "metadata": {},
   "outputs": [],
   "source": [
    "# Interactive 3D visualization of the data in feature space\n",
    "import plotly\n",
    "plotly.offline.init_notebook_mode()\n",
    "PA.plotfeatures(pop)"
   ]
  },
  {
   "cell_type": "code",
   "execution_count": null,
   "metadata": {},
   "outputs": [],
   "source": []
  },
  {
   "cell_type": "code",
   "execution_count": null,
   "metadata": {},
   "outputs": [],
   "source": []
  },
  {
   "cell_type": "code",
   "execution_count": null,
   "metadata": {},
   "outputs": [],
   "source": [
    "import numpy as np\n",
    "from multiprocessing import Pool\n",
    "import matplotlib\n",
    "from matplotlib import pyplot as plt\n",
    "\n",
    "def l1norm(ig, M1, M2, nbins):\n",
    "    arr1 = M1[ig,:].toarray() # get gene ig values by idx\n",
    "    arr2 = M2[ig,:].toarray() # get gene ig values by idx\n",
    "    max1, max2 = np.max(arr1), np.max(arr2) # get max values from the two subpopulations\n",
    "    max_ = max(max1,max2) # get max value to define histogram range\n",
    "    \n",
    "    b1, be1 = np.histogram(arr1, bins=nbins, range=(0,max_))\n",
    "    b2, be2 = np.histogram(arr2, bins=nbins, range=(0,max_))\n",
    "    b1 = b1/len(arr1) # scale bin values\n",
    "    b2 = b2/len(arr2) # scale bin values\n",
    "    \n",
    "    return np.linalg.norm(np.abs(b1-b2))\n",
    "\n",
    "refcomp = 0\n",
    "ref = pop['ref']\n",
    "Mref = pop['samples'][ref]['M']\n",
    "Cref = pop['samples'][ref]['C']\n",
    "prediction = pop['samples'][ref]['gmm'].predict(Cref)\n",
    "idxref = np.where(prediction==refcomp)[0]\n",
    "Mref = Mref[:,idxref]\n",
    "\n",
    "qs = []\n",
    "for i,x in enumerate(pop['order']): # for each sample in pop\n",
    "    print('Progress: %d of %d' % ((i+1), pop['nsamples']), end='\\r')\n",
    "    if x != ref: # if that sample is not the reference sample\n",
    "        try: # check if an aligned subpopulation exists for that sample\n",
    "            arr = pop['samples'][x]['alignments'] # retrive test sample alignments\n",
    "            irow = np.where(arr[:,1]==refcomp) # get row number in alignments where ref subpop is the desired ref subpop\n",
    "            itest = int(arr[irow, 0]) # get test subpopulation number if exists\n",
    "\n",
    "            Ctest = pop['samples'][x]['C'] # get test sample feature space data\n",
    "            prediction = pop['samples'][x]['gmm'].predict(Ctest) # get the subpopulations assignments\n",
    "            idx = np.where(prediction==itest)[0] # get indices of cells that match aligned test subpopulation\n",
    "\n",
    "            Mtest = pop['samples'][x]['M'] # get test sample gene space data, subsample\n",
    "            Mtest = Mtest[:,idx] # select test subpopulation cells\n",
    "               \n",
    "            nbins = 20\n",
    "            with Pool(None) as p:\n",
    "                q = p.starmap(l1norm, [(ig, Mref, Mtest, nbins) for ig in range(Mref.shape[0])]) # for each gene idx ig, call the l1norm function\n",
    "            qs.append(q)\n",
    "        except:\n",
    "            pass"
   ]
  },
  {
   "cell_type": "code",
   "execution_count": null,
   "metadata": {},
   "outputs": [],
   "source": [
    "qs"
   ]
  },
  {
   "cell_type": "code",
   "execution_count": null,
   "metadata": {},
   "outputs": [],
   "source": [
    "np.max(qs[0])"
   ]
  },
  {
   "cell_type": "code",
   "execution_count": null,
   "metadata": {},
   "outputs": [],
   "source": [
    "np.vstack(qs)"
   ]
  },
  {
   "cell_type": "code",
   "execution_count": null,
   "metadata": {},
   "outputs": [],
   "source": [
    "gidx = [np.where(pop['genes']==x)[0][0] for x in ['X','X2']]\n",
    "M = pop['samples']['CTRL']['M'][gidx,]"
   ]
  },
  {
   "cell_type": "code",
   "execution_count": null,
   "metadata": {},
   "outputs": [],
   "source": []
  },
  {
   "cell_type": "code",
   "execution_count": null,
   "metadata": {},
   "outputs": [],
   "source": []
  },
  {
   "cell_type": "code",
   "execution_count": null,
   "metadata": {},
   "outputs": [],
   "source": [
    "types = {\n",
    "    'Monocytes' : [\n",
    "        'hg19________CD14',\n",
    "        'hg19________CD33',\n",
    "        'hg19________LYZ',\n",
    "        'hg19________FCER1G',\n",
    "        'hg19________LGALS3',\n",
    "        'hg19________CSF1R',\n",
    "        'hg19________ITGAX',\n",
    "        'hg19________ITGAM',\n",
    "        'hg19________CD86',\n",
    "        'hg19________HLA-DRB1'],\n",
    "    'Dendhg19________ritic cells' : [\n",
    "        'hg19________LAD1',\n",
    "        'hg19________LAMP3',\n",
    "        'hg19________TSPAN13',\n",
    "        'hg19________CLIC2',\n",
    "        'hg19________FLT3'],\n",
    "    'B-cells' : [\n",
    "        'hg19________MS4A1',\n",
    "        'hg19________CD19',\n",
    "        'hg19________CD79A'],\n",
    "    'T-helpers' : [\n",
    "        'hg19________TNF',\n",
    "        'hg19________TNFRSF18',\n",
    "        'hg19________IFNG',\n",
    "        'hg19________IL2RA',\n",
    "        'hg19________BATF'],\n",
    "    'T cells' : [\n",
    "        'hg19________CD27',\n",
    "        'hg19________CD69',\n",
    "        'hg19________CD2',\n",
    "        'hg19________CD3D',\n",
    "        'hg19________CXCR3',\n",
    "        'hg19________CCL5',\n",
    "        'hg19________IL7R',\n",
    "        'hg19________CXCL8',\n",
    "        'hg19________GZMK'],\n",
    "    'Natural Killers' : [\n",
    "        'hg19________NKG7',\n",
    "        'hg19________GNLY',\n",
    "        'hg19________PRF1',\n",
    "        'hg19________FCGR3A',\n",
    "        'hg19________NCAM1',\n",
    "        'hg19________TYROBP']\n",
    "}"
   ]
  }
 ],
 "metadata": {
  "kernelspec": {
   "display_name": "py3",
   "language": "python",
   "name": "py3"
  },
  "language_info": {
   "codemirror_mode": {
    "name": "ipython",
    "version": 3
   },
   "file_extension": ".py",
   "mimetype": "text/x-python",
   "name": "python",
   "nbconvert_exporter": "python",
   "pygments_lexer": "ipython3",
   "version": "3.7.3"
  }
 },
 "nbformat": 4,
 "nbformat_minor": 2
}
