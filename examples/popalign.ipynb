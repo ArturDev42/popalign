{
 "cells": [
  {
   "cell_type": "markdown",
   "metadata": {},
   "source": [
    "### Imports"
   ]
  },
  {
   "cell_type": "code",
   "execution_count": 1,
   "metadata": {},
   "outputs": [],
   "source": [
    "import sys\n",
    "sys.path.append('../popalign/')\n",
    "import popalign as PA\n",
    "import importlib"
   ]
  },
  {
   "cell_type": "code",
   "execution_count": 2,
   "metadata": {},
   "outputs": [
    {
     "data": {
      "text/plain": [
       "'../popalign/popalign.py'"
      ]
     },
     "execution_count": 2,
     "metadata": {},
     "output_type": "execute_result"
    }
   ],
   "source": [
    "PA.__file__"
   ]
  },
  {
   "cell_type": "markdown",
   "metadata": {},
   "source": [
    "### Load data\n",
    "Run the first cell if samples are stored individually  \n",
    "Run the second cell if samples are stored in the same matrix (requires meta data file)"
   ]
  },
  {
   "cell_type": "code",
   "execution_count": null,
   "metadata": {},
   "outputs": [],
   "source": [
    "# Load samples from distinct matrix files\n",
    "mysamples = {\n",
    "    'CTRL' : '../data/samples/PBMC.mtx',\n",
    "    'GMCSF_1ng/ml' : '../data/samples/GMCSF.mtx',\n",
    "    'IFNG_1ng/ml' : '../data/samples/IFNG.mtx',\n",
    "    'IL2_10ng/ml' : '../data/samples/IL2.mtx',\n",
    "    'CD40L_20ng/ml' : '../data/samples/CD40L.mtx',\n",
    "}\n",
    "mygenes = '../data/samples/genes.tsv'\n",
    "\n",
    "pop = PA.load_samples(samples=mysamples, \n",
    "                      genes=mygenes,\n",
    "                      outputfolder='output_samples')"
   ]
  },
  {
   "cell_type": "code",
   "execution_count": 3,
   "metadata": {},
   "outputs": [],
   "source": [
    "# Load samples from one matrix file with metadata\n",
    "# (must include cell_barcode, sample_id columns)\n",
    "\"\"\"\n",
    "mymatrix = '../data/screen/PBMC-MULT-8/matrix.mtx'\n",
    "mybarcodes = '../data/screen/PBMC-MULT-8/barcodes.tsv'\n",
    "mygenes = '../data/screen/PBMC-MULT-8/features.csv'\n",
    "mymetadata = '../data/screen/PBMC-MULT-8/updated_meta.csv'\n",
    "\"\"\"\n",
    "mymatrix = '../data/screen/PBMC-MULT-6/PBMC-MULT-6.mtx'\n",
    "mybarcodes = '../data/screen/PBMC-MULT-6/barcodes.tsv'\n",
    "mygenes = '../data/screen/PBMC-MULT-6/genes.tsv'\n",
    "mymetadata = '../data/screen/PBMC-MULT-6/updated_meta.csv'\n",
    "\n",
    "pop = PA.load_multiplexed(matrix=mymatrix, \n",
    "                     barcodes=mybarcodes, \n",
    "                     metafile=mymetadata, \n",
    "                     genes=mygenes,\n",
    "                     outputfolder='output_multiplexed_pbmc6_nocd3',\n",
    "                     only=[], # list of sample names to only load the specified samples\n",
    "                     col='CD3', # either None or a column name from the meta data\n",
    "                     value=0) # if col != None, specify value in column to filter samples"
   ]
  },
  {
   "cell_type": "code",
   "execution_count": 4,
   "metadata": {},
   "outputs": [
    {
     "name": "stdout",
     "output_type": "stream",
     "text": [
      "CONTROL \t 8058\n",
      "Mianserin HCl \t 1116\n",
      "Pomalidomide \t 1309\n",
      "Loteprednol etabonate \t 750\n",
      "Celecoxib \t 819\n",
      "Sulfasalazine \t 1161\n",
      "Methotrexate \t 646\n",
      "Busulfan \t 1254\n",
      "Rapamycin \t 734\n",
      "Tranilast \t 1082\n",
      "Budesonide \t 1178\n",
      "Everolimus \t 1015\n",
      "Acetylcysteine \t 996\n",
      "Zafirlukast \t 1193\n",
      "Bimatoprost \t 1029\n",
      "Adapalene \t 896\n",
      "Triamcinolone Acetonide \t 921\n",
      "Thalidomide \t 977\n",
      "Isotretinoin \t 1057\n",
      "Ketoprofen \t 1110\n",
      "Doramapimod \t 915\n",
      "Cetirizine DiHCl \t 779\n",
      "Betamethasone Valerate \t 1108\n",
      "Phenylbutazone \t 994\n",
      "Naproxen Sodium \t 572\n",
      "Flurbiprofen \t 1007\n",
      "Meprednisone \t 1088\n",
      "Latrepirdine 2HCl \t 1016\n",
      "Mesalamine \t 1048\n",
      "Nepafenac \t 1052\n",
      "Zileuton \t 1125\n",
      "Cyclosporine \t 572\n",
      "Tazarotene \t 1180\n",
      "Allopurinol Sodium \t 880\n",
      "Etodolac \t 863\n",
      "Alprostadil \t 788\n",
      "Dexrazoxane HCI \t 971\n",
      "Ibuprofen \t 1139\n",
      "Loratadine \t 327\n",
      "Ifosfamide \t 980\n",
      "Mercaptopurine \t 1008\n",
      "Febuxostat \t 1163\n",
      "Masitinib \t 678\n",
      "Total number of cells loaded: 48554\n"
     ]
    }
   ],
   "source": [
    "PA.print_ncells(pop)"
   ]
  },
  {
   "cell_type": "markdown",
   "metadata": {},
   "source": [
    "### Normalize and gene filter"
   ]
  },
  {
   "cell_type": "code",
   "execution_count": 5,
   "metadata": {},
   "outputs": [
    {
     "name": "stdout",
     "output_type": "stream",
     "text": [
      "Performing column normalization\n",
      "Finding best scaling factor\n"
     ]
    }
   ],
   "source": [
    "# Perform column normalization\n",
    "# Find best normalization factor\n",
    "'''\n",
    "Parameters\n",
    "----------\n",
    "scaling factor: Number used to scale the data values. If None, that factor is computed automatically.\n",
    "ncells: Number of cells to randomly subsample to try different normalization factors to use less memory. If None, all cells are used.\n",
    "'''\n",
    "PA.normalize(pop, scaling_factor=None, ncells=None)"
   ]
  },
  {
   "cell_type": "code",
   "execution_count": 9,
   "metadata": {},
   "outputs": [
    {
     "name": "stdout",
     "output_type": "stream",
     "text": [
      "1541 genes selected\n"
     ]
    },
    {
     "data": {
      "image/png": "[encoded data removed]",
      "text/plain": [
       "<Figure size 576x432 with 1 Axes>"
      ]
     },
     "metadata": {
      "needs_background": "light"
     },
     "output_type": "display_data"
    }
   ],
   "source": [
    "# Plot genes (log cv ~ log cv) and filtering line --use multiple times to find best offset (usually between .7 and 1.5)\n",
    "'''\n",
    "Parameters\n",
    "----------\n",
    "offset: Value (its log) will be added to the intercept of the linear fit to filter genes\n",
    "'''\n",
    "PA.plot_gene_filter(pop, offset=1.17)"
   ]
  },
  {
   "cell_type": "code",
   "execution_count": 10,
   "metadata": {},
   "outputs": [
    {
     "name": "stdout",
     "output_type": "stream",
     "text": [
      "Removing ribosomal genes\n",
      "Filtering genes ang logging data\n"
     ]
    }
   ],
   "source": [
    "# Gene filter the data with the last offset value used in the previous step\n",
    "'''\n",
    "Parameters\n",
    "----------\n",
    "remove_ribosomal: remove genes that start with RPS or RPL if True\n",
    "'''\n",
    "PA.filter(pop, remove_ribsomal=True)"
   ]
  },
  {
   "cell_type": "code",
   "execution_count": null,
   "metadata": {},
   "outputs": [],
   "source": [
    "# Remove red blood cells from the data\n",
    "PA.removeRBC(pop, species='human')"
   ]
  },
  {
   "cell_type": "markdown",
   "metadata": {},
   "source": [
    "### Dimensionality reduction"
   ]
  },
  {
   "cell_type": "code",
   "execution_count": 11,
   "metadata": {},
   "outputs": [
    {
     "name": "stdout",
     "output_type": "stream",
     "text": [
      "Computing W matrices\n",
      "......... Iteration #0\n",
      "......... Iteration #0\n",
      "......... Iteration #0\n",
      "......... Iteration #0\n",
      "......... Iteration #0\n",
      "......... Iteration #0\n",
      "......... Iteration #100\n",
      "......... Iteration #100\n",
      "......... Iteration #100\n",
      "......... Iteration #100\n",
      "......... Iteration #100\n",
      "......... Iteration #100\n",
      "......... Iteration #200\n",
      "......... Iteration #200\n",
      "......... Iteration #200\n",
      "......... Iteration #200\n",
      "......... Iteration #200\n",
      "......... Iteration #200\n",
      "......... Iteration #300\n",
      "......... Iteration #300\n",
      "......... Iteration #300\n",
      "......... Iteration #400\n",
      "......... Iteration #400\n",
      "......... Iteration #400\n",
      "......... Iteration #300\n",
      "......... Iteration #300\n",
      "......... Iteration #300\n",
      "......... Iteration #499\n",
      "......... Iteration #499\n",
      "Orthogonal NMF performed with 500 iterations\n",
      "\n",
      "Orthogonal NMF performed with 500 iterations\n",
      "\n",
      "......... Iteration #499\n",
      "Orthogonal NMF performed with 500 iterations\n",
      "\n",
      "......... Iteration #400\n",
      "......... Iteration #400\n",
      "......... Iteration #400\n",
      "......... Iteration #499\n",
      "......... Iteration #499\n",
      "Orthogonal NMF performed with 500 iterations\n",
      "\n",
      "......... Iteration #499\n",
      "Orthogonal NMF performed with 500 iterations\n",
      "\n",
      "Orthogonal NMF performed with 500 iterations\n",
      "\n",
      "Computing reconstruction errors\n",
      "Retrieving W with lowest error\n",
      "Starting gene set enrichment analysis\n",
      "0 GO_RESPONSE_TO_METAL_ION\n",
      "1 GO_REGULATION_OF_IMMUNE_SYSTEM_PROCESS\n",
      "2 GO_ANTIGEN_PROCESSING_AND_PRESENTATION_OF_PEPTIDE_ANTIGEN\n",
      "3 GO_REGULATION_OF_T_CELL_MEDIATED_CYTOTOXICITY\n",
      "4 GO_POSITIVE_REGULATION_OF_DNA_BINDING\n",
      "5 GO_RETINA_HOMEOSTASIS\n",
      "6 GO_TYROSINE_PHOSPHORYLATION_OF_STAT_PROTEIN\n",
      "7 GO_CELLULAR_IRON_ION_HOMEOSTASIS\n",
      "8 GO_IMMUNE_SYSTEM_PROCESS\n"
     ]
    }
   ],
   "source": [
    "# Generate multiple feature spaces and pick the best one based on reconstruction error\n",
    "# Run GSEA on each feature\n",
    "# Generate QC plots\n",
    "'''\n",
    "Parameters\n",
    "----------\n",
    "ncells: Number of cells to randomly sample\n",
    "nfeats: Number or list of numbers of features to use\n",
    "nreps: Number of repetitions to perform for each k in nfeats\n",
    "niter: Maximum number of iterations to perform for each instance of the algoirthm\n",
    "'''\n",
    "importlib.reload(PA)\n",
    "PA.onmf(pop, ncells=5000, nfeats=[7,9], nreps=3, niter=500)"
   ]
  },
  {
   "cell_type": "markdown",
   "metadata": {},
   "source": [
    "### Grid of samples in embedding space"
   ]
  },
  {
   "cell_type": "code",
   "execution_count": null,
   "metadata": {},
   "outputs": [],
   "source": [
    "importlib.reload(PA)\n",
    "PA.embedding_grid(pop, method='tsne', figsize=(20,20))"
   ]
  },
  {
   "cell_type": "code",
   "execution_count": null,
   "metadata": {},
   "outputs": [],
   "source": [
    "PA.embedding_grid(pop, method='umap', figsize=(20,20))"
   ]
  },
  {
   "cell_type": "markdown",
   "metadata": {},
   "source": [
    "### Build probabilistic models"
   ]
  },
  {
   "cell_type": "code",
   "execution_count": 12,
   "metadata": {},
   "outputs": [
    {
     "name": "stdout",
     "output_type": "stream",
     "text": [
      "Building model for CONTROL (1 of 43)\n",
      "Building model for Mianserin HCl (2 of 43)\n",
      "Building model for Pomalidomide (3 of 43)\n",
      "Building model for Loteprednol etabonate (4 of 43)\n",
      "Building model for Celecoxib (5 of 43)\n",
      "Building model for Sulfasalazine (6 of 43)\n",
      "Building model for Methotrexate (7 of 43)\n",
      "Building model for Busulfan (8 of 43)\n",
      "Building model for Rapamycin (9 of 43)\n",
      "Building model for Tranilast (10 of 43)\n",
      "Building model for Budesonide (11 of 43)\n",
      "Building model for Everolimus (12 of 43)\n",
      "Building model for Acetylcysteine (13 of 43)\n",
      "Building model for Zafirlukast (14 of 43)\n",
      "Building model for Bimatoprost (15 of 43)\n",
      "Building model for Adapalene (16 of 43)\n",
      "Building model for Triamcinolone Acetonide (17 of 43)\n",
      "Building model for Thalidomide (18 of 43)\n",
      "Building model for Isotretinoin (19 of 43)\n",
      "Building model for Ketoprofen (20 of 43)\n",
      "Building model for Doramapimod (21 of 43)\n",
      "Building model for Cetirizine DiHCl (22 of 43)\n",
      "Building model for Betamethasone Valerate (23 of 43)\n",
      "Building model for Phenylbutazone (24 of 43)\n",
      "Building model for Naproxen Sodium (25 of 43)\n",
      "Building model for Flurbiprofen (26 of 43)\n",
      "Building model for Meprednisone (27 of 43)\n",
      "Building model for Latrepirdine 2HCl (28 of 43)\n",
      "Building model for Mesalamine (29 of 43)\n",
      "Building model for Nepafenac (30 of 43)\n",
      "Building model for Zileuton (31 of 43)\n",
      "Building model for Cyclosporine (32 of 43)\n",
      "Building model for Tazarotene (33 of 43)\n",
      "Building model for Allopurinol Sodium (34 of 43)\n",
      "Building model for Etodolac (35 of 43)\n",
      "Building model for Alprostadil (36 of 43)\n",
      "Building model for Dexrazoxane HCI (37 of 43)\n",
      "Building model for Ibuprofen (38 of 43)\n",
      "Building model for Loratadine (39 of 43)\n",
      "Building model for Ifosfamide (40 of 43)\n",
      "Building model for Mercaptopurine (41 of 43)\n",
      "Building model for Febuxostat (42 of 43)\n",
      "Building model for Masitinib (43 of 43)\n",
      "Rendering models\n",
      "Sample Everolimus: Component 7 only contains one cell.\n",
      "Sample Acetylcysteine: Component 7 only contains one cell.\n",
      "Sample Adapalene: Component 6 only contains one cell.\n",
      "Sample Etodolac: Component 5 only contains one cell.\n",
      "Sample Ifosfamide: Component 0 only contains one cell.\n",
      "Sample Febuxostat: Component 6 only contains one cell.\n"
     ]
    }
   ],
   "source": [
    "# Build a Gaussian Mixture model for each sample\n",
    "# Type the models subpopulations\n",
    "'''\n",
    "Parameters\n",
    "----------\n",
    "ks: Number or range (tuple) of components to use\n",
    "niters: number of replicates to build for each k in `ks`\n",
    "training: If training is float, the value will be used a percentage to select cells for the training set. Must follow 0<value<1\n",
    "          If training is int, that number of cells will be used for the training set.\n",
    "nreplicates: Number of model replicates to generate for each sample. These replicates model will be used to provide confidence intervals later in the analysis.\n",
    "rendering: One of grouped, individual or unique\n",
    "types: Dictionary of cell type markers, 'defaultpbmc' or None\n",
    "figsizegrouped: Size of the figure for the renderings together. Default is (20,20)\n",
    "figsizesingle: Size of the figure for each single sample rendering. Default is (5,5)\n",
    "'''\n",
    "importlib.reload(PA)\n",
    "PA.build_gmms(pop, \n",
    "              ks=(8,10), \n",
    "              niters=2,\n",
    "              training=.8, \n",
    "              nreplicates=1,\n",
    "              reg_covar='auto', \n",
    "              rendering='grouped', \n",
    "              types='defaultpbmc', # either None, 'defaultpbmc' or a dictionary\n",
    "              figsizegrouped=(20,20),\n",
    "              figsizesingle=(6,5))"
   ]
  },
  {
   "cell_type": "code",
   "execution_count": null,
   "metadata": {},
   "outputs": [],
   "source": [
    "# If the renderings do not have the right figure size, regenerate the renderings with:\n",
    "#PA.render_models(pop, figsizegrouped=(20,20), figsizesingle=(6,5), mode='grouped')"
   ]
  },
  {
   "cell_type": "markdown",
   "metadata": {},
   "source": [
    "### Align subpopulations"
   ]
  },
  {
   "cell_type": "code",
   "execution_count": 98,
   "metadata": {},
   "outputs": [],
   "source": [
    "# Use a reference sample's gmm to assign cells from test samples\n",
    "# to its various components, and compute varition metrics between\n",
    "# a reference component attributes and test sample cells matching it\n",
    "'''\n",
    "Parameters\n",
    "----------\n",
    "ref: Name of reference sample\n",
    "figsize: Size of the output figure\n",
    "pointsize: Size of the points in the figure\n",
    "'''\n",
    "PA.assign_align(pop, ref='CONTROL', figsize=(15,15), pointsize=10)"
   ]
  },
  {
   "cell_type": "code",
   "execution_count": null,
   "metadata": {},
   "outputs": [],
   "source": [
    "# Align subpopulations of each sample against a reference model's subpopulations\n",
    "'''\n",
    "Parameters\n",
    "----------\n",
    "ref: Name of reference sample\n",
    "method: Method to perform the alignment\n",
    "    If 'conservative', the reference component and the test component have to be each other's best match to align\n",
    "    If 'test2ref', the closest reference component is found for each test component\n",
    "    If 'ref2test', the closest test component is found for each test component\n",
    "figsizedeltas: Size of the figure for the delta plot. Default is (10,5)\n",
    "figsizeentropy: Size of the figure for the entropy plot. Default is (10,5)\n",
    "'''\n",
    "importlib.reload(PA)\n",
    "PA.align(pop, ref='CONTROL',\n",
    "         method='test2ref', # one of: test2ref, ref2test, conservative\n",
    "         figsizedeltas=(10,10),\n",
    "         figsizeentropy=(10,10))"
   ]
  },
  {
   "cell_type": "code",
   "execution_count": null,
   "metadata": {
    "scrolled": true
   },
   "outputs": [],
   "source": [
    "# Get list of differentially expressed genes between a reference subpopulation\n",
    "# and a sample's subpopulation that aligned to it\n",
    "'''\n",
    "Parameters\n",
    "----------\n",
    "refcomp : Component number of one of the reference subpopulations\n",
    "sample : Sample name\n",
    "'''\n",
    "importlib.reload(PA)\n",
    "\n",
    "refcomp = 1\n",
    "sample = 'Loteprednol etabonate'\n",
    "genelist = PA.diffexp(pop,\n",
    "                      refcomp=refcomp,\n",
    "                      sample=sample,\n",
    "                      nbins=20,\n",
    "                      cutoff=1,\n",
    "                      renderhists=True,\n",
    "                      usefiltered=True)"
   ]
  },
  {
   "cell_type": "code",
   "execution_count": null,
   "metadata": {},
   "outputs": [],
   "source": [
    "importlib.reload(PA)\n",
    "PA.plot_heatmap(pop,\n",
    "                refcomp=refcomp,\n",
    "                genelist=genelist,\n",
    "                clustersamples=True,\n",
    "                clustercells=False,\n",
    "                savename='%d_%s' % (refcomp,sample) ,# either None or a string\n",
    "                figsize=(20,20),\n",
    "                cmap='Purples',\n",
    "                samplelimits=False,\n",
    "                scalegenes=True,\n",
    "                only=None,\n",
    "                equalncells=False)"
   ]
  },
  {
   "cell_type": "markdown",
   "metadata": {},
   "source": [
    "### Visualize genes in subpopulations"
   ]
  },
  {
   "cell_type": "code",
   "execution_count": null,
   "metadata": {},
   "outputs": [],
   "source": [
    "importlib.reload(PA)\n",
    "PA.plot_genes_gmm_cells(pop,\n",
    "               sample='unique',\n",
    "               genelist=genelist,\n",
    "               savename='',\n",
    "               metric='correlation',\n",
    "               method='single',\n",
    "               clustergenes=False,\n",
    "               clustercells=False,\n",
    "               cmap='magma',\n",
    "               figsize=(15,15)\n",
    ")"
   ]
  },
  {
   "cell_type": "markdown",
   "metadata": {},
   "source": [
    "### Rank samples"
   ]
  },
  {
   "cell_type": "code",
   "execution_count": null,
   "metadata": {},
   "outputs": [],
   "source": [
    "# Rank each sample against a reference sample's model\n",
    "importlib.reload(PA)\n",
    "PA.rank(pop,\n",
    "        ref='CTRL', # label of the reference sample\n",
    "        k=100, # number of cells to randomly sample from sample\n",
    "        niter=200, # number of iterations\n",
    "        method='LLR', # LLR for log-likelihood ratio or LL for log-likelihood\n",
    "        mincells=50, # sample's minimum number of cells to be ranked\n",
    "        figsize=(10,5)) # plot figure size"
   ]
  },
  {
   "cell_type": "markdown",
   "metadata": {},
   "source": [
    "### Build unique GMM for all samples"
   ]
  },
  {
   "cell_type": "code",
   "execution_count": null,
   "metadata": {},
   "outputs": [],
   "source": [
    "# Build a unique GMM for the samples concatenated together\n",
    "importlib.reload(PA)\n",
    "PA.build_unique_gmm(pop, \n",
    "                    ks=(5,20), \n",
    "                    niters=3, \n",
    "                    training=0.2, \n",
    "                    reg_covar=True, \n",
    "                    types='defaultpbmc', # either None, 'defaultpbmc' or a dictionary\n",
    "                    figsize=(6,5))"
   ]
  },
  {
   "cell_type": "code",
   "execution_count": null,
   "metadata": {
    "scrolled": true
   },
   "outputs": [],
   "source": [
    "# Generate a query plot\n",
    "PA.plot_query(pop,  pcells=.2, nreps=10, figsize=(5,20), sharey=True)"
   ]
  },
  {
   "cell_type": "markdown",
   "metadata": {},
   "source": [
    "### 2D visualization"
   ]
  },
  {
   "cell_type": "code",
   "execution_count": null,
   "metadata": {},
   "outputs": [],
   "source": [
    "# Highlight markers in an embedded space\n",
    "PA.scatter(pop, method='umap', color='CD3D')\n",
    "PA.scatter(pop, method='umap', color='LYZ')\n",
    "scatter(pop, method='umap', sample='CONTROL', compnumber=0, color='CD3D')\n",
    "PA.scatter(pop, method='tsne', color='CD3D')\n",
    "PA.scatter(pop, method='tsne', color='LYZ')\n",
    "scatter(pop, method='tsne', sample='CONTROL', compnumber=0, color='CD3D')"
   ]
  },
  {
   "cell_type": "code",
   "execution_count": null,
   "metadata": {},
   "outputs": [],
   "source": [
    "# Highlight samples in an embedded space\n",
    "PA.samples_grid(pop, method='tsne', figsize=(20,20))"
   ]
  },
  {
   "cell_type": "code",
   "execution_count": null,
   "metadata": {},
   "outputs": [],
   "source": [
    "# Highlight sample subpopulations in an embedded space\n",
    "PA.subpopulations_grid(pop, method='tsne', figsize=(20,20))"
   ]
  },
  {
   "cell_type": "markdown",
   "metadata": {},
   "source": [
    "### 3D visualization"
   ]
  },
  {
   "cell_type": "code",
   "execution_count": null,
   "metadata": {},
   "outputs": [],
   "source": [
    "# Interactive 3D visualization of the data in feature space\n",
    "importlib.reload(PA)\n",
    "import plotly\n",
    "plotly.offline.init_notebook_mode()\n",
    "PA.plotfeatures(pop)"
   ]
  },
  {
   "cell_type": "markdown",
   "metadata": {},
   "source": [
    "### Work in progress"
   ]
  },
  {
   "cell_type": "code",
   "execution_count": null,
   "metadata": {},
   "outputs": [],
   "source": [
    "#%%%%%%%%%%%%%%%%%%%%%%%%%%%%%%%%%%%%%%%%%%%%%%%%%%%%%%\n",
    "#%%%%%%%%%%%%%%%%%%%%%%%%%%%%%%%%%%%%%%%%%%%%%%%%%%%%%%\n",
    "#-------------- WORK IN PROGRESS BELOW ----------------\n",
    "#%%%%%%%%%%%%%%%%%%%%%%%%%%%%%%%%%%%%%%%%%%%%%%%%%%%%%%\n",
    "#%%%%%%%%%%%%%%%%%%%%%%%%%%%%%%%%%%%%%%%%%%%%%%%%%%%%%%"
   ]
  },
  {
   "cell_type": "code",
   "execution_count": null,
   "metadata": {},
   "outputs": [],
   "source": [
    "from multiprocessing import Pool\n",
    "import numpy as np\n",
    "import os\n",
    "\n",
    "def diffexp_two_matrices(M1, M2, genes, nbins=20, cutoff=.7):\n",
    "    M1 = M1.toarray()\n",
    "    M2 = M2.toarray()\n",
    "    \n",
    "    with Pool(pop['ncores']) as p:\n",
    "        q = np.array(p.starmap(PA.l1norm, [(ig, M1[ig,:], M2[ig,:], nbins) for ig in range(M1.shape[0])])) # for each gene idx ig, call the l1norm function\n",
    "    \n",
    "    idx = np.argsort(q)\n",
    "    q = q[idx]\n",
    "    genes = np.array(genes)\n",
    "    genes = genes[idx]\n",
    "    \n",
    "    downregulated_idx = np.where(np.array(q)<-cutoff)[0] # get indices of genes with low l1-norm values\n",
    "    upregulated_idx = np.where(np.array(q)>cutoff)[0] # get indices of genes with high l1-norm values\n",
    "    downregulated = [genes[i] for i in downregulated_idx] # get gene labels\n",
    "    upregulated = [genes[i] for i in upregulated_idx] # get gene labels\n",
    "    \n",
    "    # render l1norm values\n",
    "    x = np.arange(len(q))\n",
    "    y = q\n",
    "    plt.scatter(x, y, s=.1, alpha=1)\n",
    "    plt.axhline(y=cutoff, color='red', linewidth=.5, label='Cutoff')\n",
    "    plt.axhline(y=-cutoff, color='red', linewidth=.5)\n",
    "    plt.xticks([])\t\n",
    "    plt.ylabel('l1-norm')\n",
    "    plt.xlabel('Genes')\n",
    "    plt.legend()\n",
    "    \n",
    "    return downregulated, upregulated\n",
    "\n",
    "# Differential expression between two sparse matrices\n",
    "downregulated, upregulated = diffexp_two_matrices(M1, M2, genes, cutoff=.9) "
   ]
  },
  {
   "cell_type": "code",
   "execution_count": null,
   "metadata": {},
   "outputs": [],
   "source": [
    "#def subpopulations_grid(pop, method='tsne', figsize=(20,20), size_background=.1, size_subpops=1):\n",
    "'''\n",
    "Generate grid plots of sample subpopulations in an embedding space\n",
    "\n",
    "pop : dict\n",
    "    Popalign object\n",
    "method : str\n",
    "    Embedding method. One of tsne, umap\n",
    "figsize : tuple\n",
    "    Size of the figures to be generated\n",
    "size_background : float, int\n",
    "    Point size for the embedding scatter in the background\n",
    "size_subpops : float, int\n",
    "    Point size for the highlighted subpopulations\n",
    "'''\n",
    "\n",
    "method='tsne'\n",
    "figsize=(20,20)\n",
    "size_background=.1\n",
    "size_subpops=1\n",
    "\n",
    "if method not in pop: # if method not run before\n",
    "    X = cat_data(pop, 'C') # retrieve feature space data\n",
    "    if method == 'umap': # if method is umap\n",
    "        X = umap.UMAP().fit_transform(X) # run umap\n",
    "    elif method == 'tsne': # if method is tsne\n",
    "        X = TSNE(n_components=2).fit_transform(X) # run tsne\n",
    "    else: # if method not valid\n",
    "        raise Exception('Method value not supported. Must be one of tsne, umap.') # raise exception\n",
    "    pop[method] = X # store embedded coordinates\n",
    "else: # if method has been run before\n",
    "    X = pop[method] # retrieve embedded coordinates\n",
    "\n",
    "x = X[:,0] # get x coordinates\n",
    "y = X[:,1] # get y coordinates\n",
    "\n",
    "\n",
    "C = PA.cat_data(pop, 'C') # get sample feature data\n",
    "gmm = pop['gmm'] # get sample gmm\n",
    "poplabels = pop['gmm_types'] # get subpopulations labels\n",
    "prediction = gmm.predict(C) # get subpopulation assignments for the cells\n",
    "\n",
    "n = C.shape[0] # get number of cells\n",
    "nr, nc = nr_nc(gmm.n_components) # get number of rows and columns for the grid plot\n",
    "fig, axes = plt.subplots(nr,nc,figsize=figsize) # create figure and subaxes\n",
    "axes = axes.flatten()\n",
    "\n",
    "for i in range(gmm.n_components): # for each subpopulation of sample\n",
    "    ax = axes[i] # assign sub axis\n",
    "    idx = np.where(prediction==i)[0] # get cell indices for that subpopulations\n",
    "    xtmp = x[idx] # subset cells\n",
    "    ytmp = y[idx] # subset cells\n",
    "    ax.scatter(x, y, c='lightgrey', s=size_background) # plot all cells as background\n",
    "    ax.scatter(xtmp, ytmp, c='purple', s=size_subpops) # plot subpopulation cells on top\n",
    "    ax.set(xticks=[]) # remove x ticks\n",
    "    ax.set(yticks=[]) # remove y ticks\n",
    "    ax.set(title='Subpopulation #%d\\n%s' % (i, poplabels[i])) # set title\n",
    "    if i % nc == 0:\n",
    "        ax.set(ylabel='%s2' % method) # set y label\n",
    "    if i >= len(pop['order'])-nc:\n",
    "        ax.set(xlabel='%s1' % method) # set x label\n",
    "\n",
    "rr = len(axes)-gmm.n_components # count how many empty plots in grid\n",
    "for i in range(1,rr+1):\n",
    "    ax = axes[-i] # backtrack extra sub axes\n",
    "    ax.axis('off') # clear empty axis from plot\n",
    "\n",
    "dname = 'embedding/subpopulations/' # folder name\n",
    "mkdir(os.path.join(pop['output'], dname)) # create folder if does not exist\n",
    "plt.savefig(os.path.join(pop['output'], dname, '%s_subpopulations.png' % sample), dpi=200) # save plot\n",
    "plt.close() # close plot\n",
    "start = end # update start index"
   ]
  },
  {
   "cell_type": "code",
   "execution_count": null,
   "metadata": {},
   "outputs": [],
   "source": []
  },
  {
   "cell_type": "code",
   "execution_count": null,
   "metadata": {},
   "outputs": [],
   "source": []
  }
 ],
 "metadata": {
  "kernelspec": {
   "display_name": "py3",
   "language": "python",
   "name": "py3"
  },
  "language_info": {
   "codemirror_mode": {
    "name": "ipython",
    "version": 3
   },
   "file_extension": ".py",
   "mimetype": "text/x-python",
   "name": "python",
   "nbconvert_exporter": "python",
   "pygments_lexer": "ipython3",
   "version": "3.7.3"
  }
 },
 "nbformat": 4,
 "nbformat_minor": 2
}
