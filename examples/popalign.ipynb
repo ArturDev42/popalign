{
 "cells": [
  {
   "cell_type": "code",
   "execution_count": 1,
   "metadata": {},
   "outputs": [],
   "source": [
    "#import sys\n",
    "#sys.path.append('../popalign/')\n",
    "import popalign as PA\n",
    "import importlib"
   ]
  },
  {
   "cell_type": "code",
   "execution_count": 2,
   "metadata": {},
   "outputs": [
    {
     "data": {
      "text/plain": [
       "'/anaconda3/envs/py3/lib/python3.7/site-packages/popalign/__init__.py'"
      ]
     },
     "execution_count": 2,
     "metadata": {},
     "output_type": "execute_result"
    }
   ],
   "source": [
    "PA.__file__"
   ]
  },
  {
   "cell_type": "code",
   "execution_count": 3,
   "metadata": {},
   "outputs": [],
   "source": [
    "# Load data (example)\n",
    "LOAD = 'screen'\n",
    "\n",
    "if LOAD == 'samples':\n",
    "    mysamples = {\n",
    "        'CTRL' : '../data/samples/PBMC.mtx',\n",
    "        'GMCSF_1ng/ml' : '../data/samples/GMCSF.mtx',\n",
    "        'IFNG_1ng/ml' : '../data/samples/IFNG.mtx',\n",
    "        'IL2_10ng/ml' : '../data/samples/IL2.mtx',\n",
    "        'CD40L_20ng/ml' : '../data/samples/CD40L.mtx',\n",
    "    }\n",
    "    mygenes = '../data/samples/genes.tsv'\n",
    "    pop = PA.load_samples(samples=mysamples, \n",
    "                          genes=mygenes)\n",
    "    \n",
    "elif LOAD == 'screen':\n",
    "    mymatrix = '../data/screen/drug_screen/pbmcmult4cd3minus.mtx'\n",
    "    mybarcodes = '../data/screen/drug_screen/barcodes.tsv'\n",
    "    mygenes = '../data/screen/drug_screen/features.tsv'\n",
    "    mymetadata = '../data/screen/drug_screen/meta.csv'\n",
    "    pop = PA.load_screen(matrix=mymatrix, \n",
    "                         barcodes=mybarcodes, \n",
    "                         metafile=mymetadata, \n",
    "                         genes=mygenes)"
   ]
  },
  {
   "cell_type": "code",
   "execution_count": null,
   "metadata": {},
   "outputs": [],
   "source": [
    "# Perform column normalization\n",
    "# Find best normalization factor\n",
    "PA.normalize(pop)"
   ]
  },
  {
   "cell_type": "code",
   "execution_count": null,
   "metadata": {},
   "outputs": [],
   "source": [
    "# Plot genes (log cv ~ log cv) and filtering line --use multiple times to find best offset (usually between .7 and 1.5)\n",
    "PA.plot_gene_filter(pop, offset=1.1)"
   ]
  },
  {
   "cell_type": "code",
   "execution_count": null,
   "metadata": {},
   "outputs": [],
   "source": [
    "# Gene filter the data with the last offset value used in the previous step\n",
    "PA.filter(pop)"
   ]
  },
  {
   "cell_type": "code",
   "execution_count": null,
   "metadata": {},
   "outputs": [],
   "source": [
    "# Remove red blood cells from the data\n",
    "PA.removeRBC(pop, 'human')"
   ]
  },
  {
   "cell_type": "code",
   "execution_count": null,
   "metadata": {},
   "outputs": [],
   "source": [
    "# Generate multiple feature spaces and pick the best one based on reconstruction error\n",
    "# Run GSEA on each feature\n",
    "# Generate QC plots\n",
    "PA.onmf(pop, ncells=5000, nfeats=[5,7], nreps=3, niter=500)"
   ]
  },
  {
   "cell_type": "code",
   "execution_count": null,
   "metadata": {},
   "outputs": [],
   "source": [
    "# Build a Gaussian Mixture model for each sample\n",
    "# Type the models subpopulations\n",
    "importlib.reload(PA)\n",
    "PA.build_gmms(pop, ks=(5,20), nreps=3, reg_covar=True, rendering='grouped', types=None)"
   ]
  },
  {
   "cell_type": "code",
   "execution_count": null,
   "metadata": {},
   "outputs": [],
   "source": [
    "# Calculate all the subpopulations entropies for each samples\n",
    "PA.entropy(pop)"
   ]
  },
  {
   "cell_type": "code",
   "execution_count": null,
   "metadata": {},
   "outputs": [],
   "source": [
    "# Align subpopulations of each sample against a reference model's subpopulations\n",
    "importlib.reload(PA)\n",
    "PA.align(pop, ref='CTRL', method='conservative')"
   ]
  },
  {
   "cell_type": "code",
   "execution_count": null,
   "metadata": {},
   "outputs": [],
   "source": [
    "# Rank each sample against a reference sample's model\n",
    "PA.rank(pop, ref='CTRL', k=100, niter=200, mincells=50)"
   ]
  },
  {
   "cell_type": "code",
   "execution_count": null,
   "metadata": {},
   "outputs": [],
   "source": [
    "# Build a unique GMM for the samples concatenated together\n",
    "PA.build_unique_gmm(pop, ks=(5,20), nreps=3, reg_covar=True, types=None)"
   ]
  },
  {
   "cell_type": "code",
   "execution_count": null,
   "metadata": {
    "scrolled": true
   },
   "outputs": [],
   "source": [
    "# Generate a query plot\n",
    "importlib.reload(PA)\n",
    "PA.plot_query(pop)"
   ]
  },
  {
   "cell_type": "code",
   "execution_count": null,
   "metadata": {},
   "outputs": [],
   "source": [
    "# Interactive 3D visualization of the data in feature space\n",
    "import plotly\n",
    "plotly.offline.init_notebook_mode()\n",
    "PA.plotfeatures(pop)"
   ]
  },
  {
   "cell_type": "code",
   "execution_count": null,
   "metadata": {},
   "outputs": [],
   "source": [
    "\"\"\"\n",
    "typelist = list(types.keys())\n",
    "genelist = np.concatenate([types[t] for t in typelist])\n",
    "\n",
    "gmm = pop['samples']['CTRL']['gmm'] # get gmm\n",
    "prediction = gmm.predict(pop['samples']['CTRL']['C']) # prediction the cells assignments for that sample\n",
    "types = PA.default_types()\n",
    "genes = pop['genes']\n",
    "\n",
    "df = pd.DataFrame(columns=range(gmm.n_components), index=typelist) # create empty dataframe\n",
    "\n",
    "for t in types: # for each cell type in the dictionary\n",
    "    gidx = [np.where(genes==x)[0][0] for x in types[t] if x in genes] # get the indices of the valid genes for that cell type\n",
    "    for i in range(gmm.n_components): # for each component of the sample\n",
    "        cidx = np.where(prediction==i)[0] # get the matching cell indices\n",
    "        sub = pop['samples']['CTRL']['M'][:,cidx] # subset the normalized data\n",
    "        sub = sub[gidx,:] # subset the desired genes\n",
    "        df.at[t,i] = sub.mean() # update the dataframe with the mean of those cells for those genes\n",
    "\"\"\""
   ]
  },
  {
   "cell_type": "code",
   "execution_count": null,
   "metadata": {},
   "outputs": [],
   "source": [
    "\"\"\"\n",
    "from sklearn import preprocessing\n",
    "\n",
    "x = df.values #returns a numpy array\n",
    "min_max_scaler = preprocessing.MinMaxScaler()\n",
    "x_scaled = min_max_scaler.fit_transform(x.T)\n",
    "df = pd.DataFrame(columns=range(gmm.n_components), index=typelist, data=x_scaled.T)\n",
    "\"\"\""
   ]
  }
 ],
 "metadata": {
  "kernelspec": {
   "display_name": "py3",
   "language": "python",
   "name": "py3"
  },
  "language_info": {
   "codemirror_mode": {
    "name": "ipython",
    "version": 3
   },
   "file_extension": ".py",
   "mimetype": "text/x-python",
   "name": "python",
   "nbconvert_exporter": "python",
   "pygments_lexer": "ipython3",
   "version": "3.7.3"
  }
 },
 "nbformat": 4,
 "nbformat_minor": 2
}
