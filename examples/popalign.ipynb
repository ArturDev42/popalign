{
 "cells": [
  {
   "cell_type": "markdown",
   "metadata": {},
   "source": [
    "### Imports"
   ]
  },
  {
   "cell_type": "code",
   "execution_count": null,
   "metadata": {},
   "outputs": [],
   "source": [
    "import sys\n",
    "sys.path.append('../popalign/')\n",
    "import popalign as PA\n",
    "import importlib"
   ]
  },
  {
   "cell_type": "code",
   "execution_count": null,
   "metadata": {},
   "outputs": [],
   "source": [
    "PA.__file__"
   ]
  },
  {
   "cell_type": "markdown",
   "metadata": {},
   "source": [
    "### Load data\n",
    "Run the first cell if samples are stored individually  \n",
    "Run the second cell if samples are stored in the same matrix (requires meta data file)"
   ]
  },
  {
   "cell_type": "code",
   "execution_count": null,
   "metadata": {},
   "outputs": [],
   "source": [
    "# Load samples from distinct matrix files\n",
    "mysamples = {\n",
    "    'CTRL' : '../data/samples/PBMC.mtx',\n",
    "    'GMCSF_1ng/ml' : '../data/samples/GMCSF.mtx',\n",
    "    'IFNG_1ng/ml' : '../data/samples/IFNG.mtx',\n",
    "    'IL2_10ng/ml' : '../data/samples/IL2.mtx',\n",
    "    'CD40L_20ng/ml' : '../data/samples/CD40L.mtx',\n",
    "}\n",
    "mygenes = '../data/samples/genes.tsv'\n",
    "\n",
    "pop = PA.load_samples(samples=mysamples, \n",
    "                      genes=mygenes,\n",
    "                      outputfolder='output_samples')"
   ]
  },
  {
   "cell_type": "code",
   "execution_count": null,
   "metadata": {},
   "outputs": [],
   "source": [
    "# Load samples from one matrix file with metadata\n",
    "# (must include cell_barcode, sample_id columns)\n",
    "mymatrix = '../data/screen/PBMC-MULT-4/pbmcmult4cd3minus.mtx'\n",
    "mybarcodes = '../data/screen/PBMC-MULT-4/barcodes.tsv'\n",
    "mygenes = '../data/screen/PBMC-MULT-4/features.tsv'\n",
    "mymetadata = '../data/screen/PBMC-MULT-4/meta.csv'\n",
    "\n",
    "pop = PA.load_multiplexed(matrix=mymatrix, \n",
    "                     barcodes=mybarcodes, \n",
    "                     metafile=mymetadata, \n",
    "                     genes=mygenes,\n",
    "                     outputfolder='output_multiplexed_test',\n",
    "                     only=[], # list of sample names to only load the specified samples\n",
    "                     col=None, # either None or a column name from the meta data\n",
    "                     value=None) # if col != None, specify value in column to filter samples"
   ]
  },
  {
   "cell_type": "markdown",
   "metadata": {},
   "source": [
    "### Normalize and gene filter"
   ]
  },
  {
   "cell_type": "code",
   "execution_count": null,
   "metadata": {},
   "outputs": [],
   "source": [
    "# Perform column normalization\n",
    "# Find best normalization factor\n",
    "PA.normalize(pop, scaling_factor=None, ncells=None)"
   ]
  },
  {
   "cell_type": "code",
   "execution_count": null,
   "metadata": {},
   "outputs": [],
   "source": [
    "# Plot genes (log cv ~ log cv) and filtering line --use multiple times to find best offset (usually between .7 and 1.5)\n",
    "PA.plot_gene_filter(pop, offset=1.1)"
   ]
  },
  {
   "cell_type": "code",
   "execution_count": null,
   "metadata": {},
   "outputs": [],
   "source": [
    "# Gene filter the data with the last offset value used in the previous step\n",
    "PA.filter(pop, remove_ribsomal=True)"
   ]
  },
  {
   "cell_type": "code",
   "execution_count": null,
   "metadata": {},
   "outputs": [],
   "source": [
    "# Remove red blood cells from the data\n",
    "PA.removeRBC(pop, species='human')"
   ]
  },
  {
   "cell_type": "markdown",
   "metadata": {},
   "source": [
    "### Dimensionality reduction"
   ]
  },
  {
   "cell_type": "code",
   "execution_count": null,
   "metadata": {},
   "outputs": [],
   "source": [
    "# Generate multiple feature spaces and pick the best one based on reconstruction error\n",
    "# Run GSEA on each feature\n",
    "# Generate QC plots\n",
    "PA.onmf(pop, ncells=5000, nfeats=[5,7], nreps=3, niter=500)"
   ]
  },
  {
   "cell_type": "markdown",
   "metadata": {},
   "source": [
    "### Build probabilistic models"
   ]
  },
  {
   "cell_type": "code",
   "execution_count": null,
   "metadata": {},
   "outputs": [],
   "source": [
    "# Build a Gaussian Mixture model for each sample\n",
    "# Type the models subpopulations\n",
    "importlib.reload(PA)\n",
    "PA.build_gmms(pop, \n",
    "              ks=(4,7), \n",
    "              niters=1, \n",
    "              training=.8, \n",
    "              nreplicates=1,\n",
    "              reg_covar=True, \n",
    "              rendering='grouped', \n",
    "              types='defaultpbmc', # either None, 'defaultpbmc' or a dictionary\n",
    "              figsizegrouped=(20,20),\n",
    "              figsizesingle=(6,5))"
   ]
  },
  {
   "cell_type": "code",
   "execution_count": null,
   "metadata": {},
   "outputs": [],
   "source": [
    "# If the renderings do not have the right figure size, regenerate the renderings with:\n",
    "#PA.render_models(pop, figsizegrouped=(20,20), figsizesingle=(6,5), mode='grouped')"
   ]
  },
  {
   "cell_type": "markdown",
   "metadata": {},
   "source": [
    "### Align subpopulations"
   ]
  },
  {
   "cell_type": "code",
   "execution_count": null,
   "metadata": {},
   "outputs": [],
   "source": [
    "# Align subpopulations of each sample against a reference model's subpopulations\n",
    "PA.align(pop, ref='CTRL', method='conservative', figsizedeltas=(10,10), figsizeentropy=(10,10))"
   ]
  },
  {
   "cell_type": "code",
   "execution_count": null,
   "metadata": {},
   "outputs": [],
   "source": [
    "# Get list of differentially expressed genes between a reference subpopulation\n",
    "# and a sample's subpopulation that aligned to it\n",
    "refcomp = 0\n",
    "sample = 'GMCSF_1ng/ml'\n",
    "importlib.reload(PA)\n",
    "\n",
    "genelist= PA.diffexp(pop,\n",
    "                      refcomp=refcomp,\n",
    "                      sample=sample,\n",
    "                      nbins=20, \n",
    "                      cutoff=1,\n",
    "                      renderhists=True,\n",
    "                      usefiltered=True)"
   ]
  },
  {
   "cell_type": "code",
   "execution_count": null,
   "metadata": {},
   "outputs": [],
   "source": [
    "importlib.reload(PA)\n",
    "PA.plot_heatmap(pop,\n",
    "                refcomp=refcomp,\n",
    "                genelist=genelist,\n",
    "                cluster=True, \n",
    "                savename='%d_%s' % (refcomp,sample) ,# either None or a string\n",
    "                figsize=(20,20),\n",
    "                cmap='Purples',\n",
    "                samplelimits=False,\n",
    "                scalegenes=True,\n",
    "                only=None)"
   ]
  },
  {
   "cell_type": "markdown",
   "metadata": {},
   "source": [
    "### Visualize genes in subpopulations"
   ]
  },
  {
   "cell_type": "code",
   "execution_count": null,
   "metadata": {},
   "outputs": [],
   "source": [
    "importlib.reload(PA)\n",
    "PA.plot_genes_gmm_cells(pop,\n",
    "               sample='unique',\n",
    "               genelist=genelist,\n",
    "               savename='',\n",
    "               metric='correlation',\n",
    "               method='single',\n",
    "               clustergenes=False,\n",
    "               clustercells=False,\n",
    "               cmap='magma',\n",
    "               figsize=(15,15)\n",
    ")"
   ]
  },
  {
   "cell_type": "markdown",
   "metadata": {},
   "source": [
    "### Rank samples"
   ]
  },
  {
   "cell_type": "code",
   "execution_count": null,
   "metadata": {},
   "outputs": [],
   "source": [
    "# Rank each sample against a reference sample's model\n",
    "importlib.reload(PA)\n",
    "PA.rank(pop,\n",
    "        ref='CTRL', # label of the reference sample\n",
    "        k=100, # number of cells to randomly sample from sample\n",
    "        niter=200, # number of iterations\n",
    "        method='LLR', # LLR for log-likelihood ratio or LL for log-likelihood\n",
    "        mincells=50, # sample's minimum number of cells to be ranked\n",
    "        figsize=(10,5)) # plot figure size"
   ]
  },
  {
   "cell_type": "markdown",
   "metadata": {},
   "source": [
    "### Build unique GMM for all samples"
   ]
  },
  {
   "cell_type": "code",
   "execution_count": null,
   "metadata": {},
   "outputs": [],
   "source": [
    "# Build a unique GMM for the samples concatenated together\n",
    "importlib.reload(PA)\n",
    "PA.build_unique_gmm(pop, \n",
    "                    ks=(5,20), \n",
    "                    niters=3, \n",
    "                    training=0.2, \n",
    "                    reg_covar=True, \n",
    "                    types='defaultpbmc', # either None, 'defaultpbmc' or a dictionary\n",
    "                    figsize=(6,5))"
   ]
  },
  {
   "cell_type": "code",
   "execution_count": null,
   "metadata": {
    "scrolled": true
   },
   "outputs": [],
   "source": [
    "# Generate a query plot\n",
    "PA.plot_query(pop,  pcells=.2, nreps=10, figsize=(5,20), sharey=True)"
   ]
  },
  {
   "cell_type": "markdown",
   "metadata": {},
   "source": [
    "### 2D visualization"
   ]
  },
  {
   "cell_type": "code",
   "execution_count": null,
   "metadata": {},
   "outputs": [],
   "source": [
    "importlib.reload(PA)\n",
    "PA.scatter(pop, method='umap', color='CD3D')\n",
    "PA.scatter(pop, method='umap', color='LYZ')\n",
    "PA.scatter(pop, method='tsne', color='CD3D')\n",
    "PA.scatter(pop, method='tsne', color='LYZ')"
   ]
  },
  {
   "cell_type": "markdown",
   "metadata": {},
   "source": [
    "### 3D visualization"
   ]
  },
  {
   "cell_type": "code",
   "execution_count": null,
   "metadata": {},
   "outputs": [],
   "source": [
    "# Interactive 3D visualization of the data in feature space\n",
    "importlib.reload(PA)\n",
    "import plotly\n",
    "plotly.offline.init_notebook_mode()\n",
    "PA.plotfeatures(pop)"
   ]
  },
  {
   "cell_type": "markdown",
   "metadata": {},
   "source": [
    "### Work in progress"
   ]
  },
  {
   "cell_type": "code",
   "execution_count": null,
   "metadata": {},
   "outputs": [],
   "source": [
    "#%%%%%%%%%%%%%%%%%%%%%%%%%%%%%%%%%%%%%%%%%%%%%%%%%%%%%%\n",
    "#%%%%%%%%%%%%%%%%%%%%%%%%%%%%%%%%%%%%%%%%%%%%%%%%%%%%%%\n",
    "#-------------- WORK IN PROGRESS BELOW ----------------\n",
    "#%%%%%%%%%%%%%%%%%%%%%%%%%%%%%%%%%%%%%%%%%%%%%%%%%%%%%%\n",
    "#%%%%%%%%%%%%%%%%%%%%%%%%%%%%%%%%%%%%%%%%%%%%%%%%%%%%%%"
   ]
  }
 ],
 "metadata": {
  "kernelspec": {
   "display_name": "py3",
   "language": "python",
   "name": "py3"
  },
  "language_info": {
   "codemirror_mode": {
    "name": "ipython",
    "version": 3
   },
   "file_extension": ".py",
   "mimetype": "text/x-python",
   "name": "python",
   "nbconvert_exporter": "python",
   "pygments_lexer": "ipython3",
   "version": "3.7.3"
  }
 },
 "nbformat": 4,
 "nbformat_minor": 2
}
