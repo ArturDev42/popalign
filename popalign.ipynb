{
 "cells": [
  {
   "cell_type": "code",
   "execution_count": null,
   "metadata": {},
   "outputs": [],
   "source": [
    "import sys\n",
    "sys.path.append('methods/')\n",
    "import popalign as PA\n",
    "import importlib"
   ]
  },
  {
   "cell_type": "code",
   "execution_count": null,
   "metadata": {},
   "outputs": [],
   "source": [
    "'''\n",
    "Load separate samples\n",
    "'''\n",
    "LOAD = 'screen'\n",
    "\n",
    "if LOAD == 'samples':\n",
    "    mysamples = {\n",
    "        'CTRL' : 'data/samples/PBMC.mtx',\n",
    "        'GMCSF_1ng/ml' : 'data/samples/GMCSF.mtx',\n",
    "        'IFNG_1ng/ml' : 'data/samples/IFNG.mtx',\n",
    "        'IL2_10ng/ml' : 'data/samples/IL2.mtx',\n",
    "        'CD40L_20ng/ml' : 'data/samples/CD40L.mtx',\n",
    "    }\n",
    "    mygenes = 'data/samples/genes.tsv'\n",
    "    pop = PA.load_samples(samples=mysamples, \n",
    "                          genes=mygenes)\n",
    "    \n",
    "elif LOAD == 'screen':\n",
    "    mymatrix = 'data/screen/drug_screen/pbmcmult4cd3minus.mtx'\n",
    "    mybarcodes = 'data/screen/drug_screen/barcodes.tsv'\n",
    "    mygenes = 'data/screen/drug_screen/features.tsv'\n",
    "    mymetadata = 'data/screen/drug_screen/meta.csv'\n",
    "    pop = PA.load_screen(matrix=mymatrix, \n",
    "                         barcodes=mybarcodes, \n",
    "                         metafile=mymetadata, \n",
    "                         genes=mygenes)"
   ]
  },
  {
   "cell_type": "code",
   "execution_count": null,
   "metadata": {},
   "outputs": [],
   "source": [
    "'''\n",
    "Perform column normalization\n",
    "Find best normalization factor\n",
    "'''\n",
    "PA.normalize(pop)"
   ]
  },
  {
   "cell_type": "code",
   "execution_count": null,
   "metadata": {},
   "outputs": [],
   "source": [
    "'''\n",
    "Plot genes (log cv ~ log cv) and filtering\n",
    "line --use multiple times to find best offset\n",
    "(usually between .7 and 1.5)\n",
    "'''\n",
    "PA.plot_gene_filter(pop, offset=1)"
   ]
  },
  {
   "cell_type": "code",
   "execution_count": null,
   "metadata": {},
   "outputs": [],
   "source": [
    "'''\n",
    "Gene filter the data with the last\n",
    "offset used in the previous step\n",
    "'''\n",
    "PA.filter(pop)"
   ]
  },
  {
   "cell_type": "code",
   "execution_count": null,
   "metadata": {},
   "outputs": [],
   "source": [
    "'''\n",
    "Remove red blood cells from the data\n",
    "'''\n",
    "PA.removeRBC(pop, 'human')"
   ]
  },
  {
   "cell_type": "code",
   "execution_count": null,
   "metadata": {},
   "outputs": [],
   "source": [
    "'''\n",
    "Generate multiple feature spaces and pick\n",
    "'''\n",
    "PA.onmf(pop, ncells=5000, nfeats=[5,7], nreps=2, niter=300)"
   ]
  },
  {
   "cell_type": "code",
   "execution_count": null,
   "metadata": {},
   "outputs": [],
   "source": [
    "PA.build_gmms(pop, ks=(5,20), nreps=3)"
   ]
  },
  {
   "cell_type": "code",
   "execution_count": null,
   "metadata": {},
   "outputs": [],
   "source": [
    "PA.entropy(pop)"
   ]
  },
  {
   "cell_type": "code",
   "execution_count": null,
   "metadata": {},
   "outputs": [],
   "source": [
    "PA.align(pop, ref='CTRL', method='conservative')"
   ]
  },
  {
   "cell_type": "code",
   "execution_count": null,
   "metadata": {},
   "outputs": [],
   "source": [
    "PA.rank(pop, ref='CTRL')"
   ]
  },
  {
   "cell_type": "code",
   "execution_count": null,
   "metadata": {},
   "outputs": [],
   "source": [
    "PA.build_unique_gmm(pop, ks=(5,20), nreps=3, reg_covar=False, groups=None)"
   ]
  },
  {
   "cell_type": "code",
   "execution_count": null,
   "metadata": {
    "scrolled": true
   },
   "outputs": [],
   "source": [
    "PA.plot_query(pop)"
   ]
  },
  {
   "cell_type": "code",
   "execution_count": null,
   "metadata": {},
   "outputs": [],
   "source": [
    "PA.plotfeatures(pop)"
   ]
  }
 ],
 "metadata": {
  "kernelspec": {
   "display_name": "Python 3",
   "language": "python",
   "name": "python3"
  },
  "language_info": {
   "codemirror_mode": {
    "name": "ipython",
    "version": 3
   },
   "file_extension": ".py",
   "mimetype": "text/x-python",
   "name": "python",
   "nbconvert_exporter": "python",
   "pygments_lexer": "ipython3",
   "version": "3.6.7"
  }
 },
 "nbformat": 4,
 "nbformat_minor": 2
}
